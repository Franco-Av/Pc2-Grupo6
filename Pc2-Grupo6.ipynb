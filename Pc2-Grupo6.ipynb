{
 "cells": [
  {
   "cell_type": "code",
   "execution_count": 1,
   "id": "d285ef38",
   "metadata": {},
   "outputs": [],
   "source": [
    "from bs4 import BeautifulSoup\n",
    "import pandas as pd\n",
    "import openpyxl\n",
    "from selenium import webdriver\n",
    "import re\n",
    "import requests\n",
    "import urllib.request, urllib.parse, urllib.error"
   ]
  },
  {
   "cell_type": "code",
   "execution_count": 11,
   "id": "c5f71fb8",
   "metadata": {},
   "outputs": [],
   "source": [
    "datos = pd.read_excel(\"CHGenesOrdenadosConVecinos.xlsx\", header=1)\n",
    "Wd = webdriver.Chrome(\"./chromedriver.exe\")\n",
    "Fila = 3"
   ]
  },
  {
   "cell_type": "code",
   "execution_count": null,
   "id": "e2cbd320",
   "metadata": {},
   "outputs": [],
   "source": [
    "#para las dos primeras columnas\n",
    "\n",
    "for i in list(datos[\"Gen Abrev\"]): \n",
    "    print(Fila-2,\":\",i)\n",
    "    \n",
    "    #creamos listas vacias de las columnas\n",
    "    name = []\n",
    "    category = []\n",
    "    \n",
    "    #abrimos el excel y asignamos la hoja\n",
    "    datos1=openpyxl.load_workbook(\"CHGenesOrdenadosConVecinos.xlsx\")\n",
    "    hoja1=datos1['C1']\n",
    "    \n",
    "    Wd.get(f\"https://www.genecards.org/cgi-bin/carddisp.pl?gene={i}&keywords={i}\") \n",
    "    gname = Wd.find_elements_by_xpath('//span[@ class=\"aliasMainName\"]') \n",
    "    gcategory = Wd.find_elements_by_xpath('//span[@class= \"gc-category\"]')"
   ]
  }
 ],
 "metadata": {
  "kernelspec": {
   "display_name": "Python 3",
   "language": "python",
   "name": "python3"
  },
  "language_info": {
   "codemirror_mode": {
    "name": "ipython",
    "version": 3
   },
   "file_extension": ".py",
   "mimetype": "text/x-python",
   "name": "python",
   "nbconvert_exporter": "python",
   "pygments_lexer": "ipython3",
   "version": "3.8.8"
  }
 },
 "nbformat": 4,
 "nbformat_minor": 5
}
